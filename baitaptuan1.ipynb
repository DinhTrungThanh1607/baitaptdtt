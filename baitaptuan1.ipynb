{
 "cells": [
  {
   "cell_type": "code",
   "execution_count": 2,
   "id": "1998f7bb-55df-4ddc-b05d-49fdea26fb92",
   "metadata": {},
   "outputs": [
    {
     "name": "stdin",
     "output_type": "stream",
     "text": [
      " 2\n"
     ]
    },
    {
     "name": "stdout",
     "output_type": "stream",
     "text": [
      "4.0\n"
     ]
    }
   ],
   "source": [
    "number=float(input())\n",
    "print(2*number)"
   ]
  },
  {
   "cell_type": "code",
   "execution_count": 4,
   "id": "e8c3c7c8-a9db-42c2-87ef-c3594a147d52",
   "metadata": {},
   "outputs": [
    {
     "name": "stdin",
     "output_type": "stream",
     "text": [
      " 12\n",
      " 10\n"
     ]
    },
    {
     "name": "stdout",
     "output_type": "stream",
     "text": [
      "6.96\n"
     ]
    }
   ],
   "source": [
    "a=float(input())\n",
    "b=float(input())\n",
    "dien_tich=a*b-(a/2)**2*3.14\n",
    "print(f'{dien_tich:.2f}')"
   ]
  },
  {
   "cell_type": "code",
   "execution_count": 5,
   "id": "3ed3db95-e85c-4681-af44-87be53387036",
   "metadata": {},
   "outputs": [
    {
     "name": "stdin",
     "output_type": "stream",
     "text": [
      " 2\n"
     ]
    },
    {
     "name": "stdout",
     "output_type": "stream",
     "text": [
      "2 la so chan\n"
     ]
    }
   ],
   "source": [
    "a=int(input())\n",
    "if a%2 ==0:\n",
    "    print(a,\"la so chan\")\n",
    "else:\n",
    "    print(a,\"la so le\")"
   ]
  },
  {
   "cell_type": "code",
   "execution_count": 6,
   "id": "5cc97895-aac5-48e3-9f2e-781d479f9b82",
   "metadata": {},
   "outputs": [
    {
     "name": "stdin",
     "output_type": "stream",
     "text": [
      " Dinh Trung Thanh\n"
     ]
    },
    {
     "name": "stdout",
     "output_type": "stream",
     "text": [
      "16\n"
     ]
    }
   ],
   "source": [
    "ss=input()\n",
    "print(len(ss))\n"
   ]
  },
  {
   "cell_type": "code",
   "execution_count": 7,
   "id": "80d79003-d389-4427-9bbb-b1d1be4a8e85",
   "metadata": {},
   "outputs": [
    {
     "name": "stdin",
     "output_type": "stream",
     "text": [
      " 12345\n"
     ]
    },
    {
     "name": "stdout",
     "output_type": "stream",
     "text": [
      "true\n"
     ]
    }
   ],
   "source": [
    "x=int(input())\n",
    "if x%10 ==5:\n",
    "    print(\"true\")\n",
    "else: \n",
    "    print(\"false\")\n",
    "    "
   ]
  },
  {
   "cell_type": "code",
   "execution_count": 8,
   "id": "442cda10-6c28-4f87-82e3-9bc596f6593c",
   "metadata": {},
   "outputs": [
    {
     "name": "stdin",
     "output_type": "stream",
     "text": [
      " 75\n"
     ]
    },
    {
     "name": "stdout",
     "output_type": "stream",
     "text": [
      "true\n"
     ]
    }
   ],
   "source": [
    "x=int(input())\n",
    "if x%15==0:\n",
    "    print(\"true\")\n",
    "else:\n",
    "    print(\"false\")\n",
    "    "
   ]
  },
  {
   "cell_type": "code",
   "execution_count": 9,
   "id": "74c1957a-4d00-4b56-9685-851b3c85da73",
   "metadata": {},
   "outputs": [
    {
     "name": "stdin",
     "output_type": "stream",
     "text": [
      " 2007\n"
     ]
    },
    {
     "name": "stdout",
     "output_type": "stream",
     "text": [
      "du tuoi bau cu\n"
     ]
    }
   ],
   "source": [
    "nam_sinh=int(input())\n",
    "if 2025-nam_sinh>17 :\n",
    "    print(\"du tuoi bau cu\")\n",
    "else: \n",
    "    print(\"chua du tuoi bau cu\")"
   ]
  },
  {
   "cell_type": "code",
   "execution_count": 10,
   "id": "ab0bf924-272b-4801-be55-c88d4d44bd31",
   "metadata": {},
   "outputs": [
    {
     "name": "stdin",
     "output_type": "stream",
     "text": [
      " 2\n",
      " 4\n"
     ]
    },
    {
     "name": "stdout",
     "output_type": "stream",
     "text": [
      "4\n"
     ]
    }
   ],
   "source": [
    "a = int(input())\n",
    "b=int(input())\n",
    "if a>b: \n",
    "    print(a)\n",
    "else:\n",
    "    if a==b :\n",
    "        print(\"2 so bang nhau\")\n",
    "    else:\n",
    "        print(b)\n",
    "    \n",
    "        "
   ]
  },
  {
   "cell_type": "code",
   "execution_count": 11,
   "id": "95ea8ca2-177a-4dd6-a1d9-fde859349001",
   "metadata": {},
   "outputs": [
    {
     "name": "stdin",
     "output_type": "stream",
     "text": [
      " 3\n",
      " 4\n"
     ]
    },
    {
     "name": "stdout",
     "output_type": "stream",
     "text": [
      "4\n"
     ]
    }
   ],
   "source": [
    "a=int(input())\n",
    "b=int(input())\n",
    "if a>b:\n",
    "    print(a)\n",
    "elif b>a:\n",
    "    print(b)\n",
    "else: \n",
    "    print(\"hai so bang nhau\")"
   ]
  },
  {
   "cell_type": "code",
   "execution_count": 12,
   "id": "fdf8aca8-97fc-4970-9dd2-1a2f43b65ee3",
   "metadata": {},
   "outputs": [
    {
     "name": "stdin",
     "output_type": "stream",
     "text": [
      " 29\n"
     ]
    },
    {
     "name": "stdout",
     "output_type": "stream",
     "text": [
      "la chu so\n"
     ]
    }
   ],
   "source": [
    "x=input()\n",
    "if x.isdigit():\n",
    "    print(\"la chu so\")\n",
    "else: \n",
    "    print(\"la chu cai\")"
   ]
  },
  {
   "cell_type": "code",
   "execution_count": 13,
   "id": "d941bb7d-e0ab-4307-b601-d12b7ffc1995",
   "metadata": {},
   "outputs": [
    {
     "name": "stdin",
     "output_type": "stream",
     "text": [
      " 8.5\n"
     ]
    },
    {
     "name": "stdout",
     "output_type": "stream",
     "text": [
      "gioi\n"
     ]
    }
   ],
   "source": [
    "x=float(input())\n",
    "if x>=8: \n",
    "    print(\"gioi\")\n",
    "elif x>=6.5 and x<8: \n",
    "    print(\"kha\")\n",
    "elif x>=5 and x<6.5:\n",
    "    print(\"trung binh\")\n",
    "else:\n",
    "    print (\"yeu\")"
   ]
  },
  {
   "cell_type": "code",
   "execution_count": 14,
   "id": "02c4ef95-4648-4726-9aa7-90fba0f8d352",
   "metadata": {},
   "outputs": [
    {
     "name": "stdin",
     "output_type": "stream",
     "text": [
      " a\n"
     ]
    },
    {
     "name": "stdout",
     "output_type": "stream",
     "text": [
      "A\n"
     ]
    }
   ],
   "source": [
    "x=input()\n",
    "if x.islower():\n",
    "    print(x.upper())\n",
    "else:\n",
    "    print(x.lower())"
   ]
  },
  {
   "cell_type": "code",
   "execution_count": 18,
   "id": "ae9a147f-aff1-45dc-b9fa-21d5dfd364b6",
   "metadata": {},
   "outputs": [
    {
     "name": "stdin",
     "output_type": "stream",
     "text": [
      " 12345\n",
      " 23456\n",
      " Dinh Trung Thanh\n"
     ]
    },
    {
     "name": "stdout",
     "output_type": "stream",
     "text": [
      "Ho va ten: Dinh Trung Thanh\n",
      "So tien phai tra la:\n",
      "38444.06 nghin dong\n"
     ]
    }
   ],
   "source": [
    "# So dien thang truoc\n",
    "a=int(input())\n",
    "# So dien thang nay\n",
    "b=int(input())\n",
    "so_dien=b-a\n",
    "ten_chu_ho=input()\n",
    "print(f'{\"Ho va ten:\"} {ten_chu_ho}')\n",
    "print(\"So tien phai tra la:\")\n",
    "if so_dien>0 and so_dien<=100:\n",
    "    print(f'{so_dien*1.984} {\"nghin dong\"}')\n",
    "elif so_dien>51 and so_dien<=100:\n",
    "    print(f'{so_dien*2.05} {\"nghin dong\"}')\n",
    "elif so_dien>101 and so_dien<=200:\n",
    "    print(f'{so_dien*2.38} {\"nghin dong\"}')\n",
    "elif so_dien>201 and so_dien<=300:\n",
    "    print(f'{so_dien*2.998} {\"nghin dong\"}')\n",
    "elif so_dien>301 and so_dien<=400:\n",
    "    print(f'{so_dien*3.35} {\"nghin dong\"}')\n",
    "else:\n",
    "    print(f'{so_dien*3.46} {\"nghin dong\"}')\n",
    "    \n",
    "\n"
   ]
  }
 ],
 "metadata": {
  "kernelspec": {
   "display_name": "Python 3 (ipykernel)",
   "language": "python",
   "name": "python3"
  },
  "language_info": {
   "codemirror_mode": {
    "name": "ipython",
    "version": 3
   },
   "file_extension": ".py",
   "mimetype": "text/x-python",
   "name": "python",
   "nbconvert_exporter": "python",
   "pygments_lexer": "ipython3",
   "version": "3.13.7"
  }
 },
 "nbformat": 4,
 "nbformat_minor": 5
}
