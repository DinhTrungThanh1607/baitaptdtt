{
 "cells": [
  {
   "cell_type": "code",
   "execution_count": 1,
   "id": "1998f7bb-55df-4ddc-b05d-49fdea26fb92",
   "metadata": {},
   "outputs": [
    {
     "name": "stdin",
     "output_type": "stream",
     "text": [
      " 2\n"
     ]
    },
    {
     "name": "stdout",
     "output_type": "stream",
     "text": [
      "4\n"
     ]
    }
   ],
   "source": [
    "#Bai1\n",
    "number=int(input())\n",
    "print(2*number)"
   ]
  },
  {
   "cell_type": "code",
   "execution_count": 4,
   "id": "e8c3c7c8-a9db-42c2-87ef-c3594a147d52",
   "metadata": {},
   "outputs": [
    {
     "name": "stdin",
     "output_type": "stream",
     "text": [
      " 12\n",
      " 10\n"
     ]
    },
    {
     "name": "stdout",
     "output_type": "stream",
     "text": [
      "6.96\n"
     ]
    }
   ],
   "source": [
    "#Bai2\n",
    "a=float(input())\n",
    "b=float(input())\n",
    "dien_tich=a*b-(a/2)**2*3.14\n",
    "print(f'{dien_tich:.2f}')"
   ]
  },
  {
   "cell_type": "code",
   "execution_count": 5,
   "id": "3ed3db95-e85c-4681-af44-87be53387036",
   "metadata": {},
   "outputs": [
    {
     "name": "stdin",
     "output_type": "stream",
     "text": [
      " A\n"
     ]
    },
    {
     "name": "stdout",
     "output_type": "stream",
     "text": [
      "a\n"
     ]
    }
   ],
   "source": [
    "#Bai3\n",
    "a=input()\n",
    "if \"b\"<=a<=\"c\":\n",
    "    print(chr(ord(a)-32))\n",
    "else: \n",
    "    print(chr(ord(a)+32))\n"
   ]
  },
  {
   "cell_type": "code",
   "execution_count": 6,
   "id": "5cc97895-aac5-48e3-9f2e-781d479f9b82",
   "metadata": {},
   "outputs": [
    {
     "name": "stdin",
     "output_type": "stream",
     "text": [
      " 1\n"
     ]
    },
    {
     "name": "stdout",
     "output_type": "stream",
     "text": [
      "1 khong phai la ky tu alphabet\n"
     ]
    }
   ],
   "source": [
    "#Bai4\n",
    "c=input()\n",
    "if c.isdigit():\n",
    "    print(f'{c} {\"khong phai la ky tu alphabet\"}')\n",
    "else:\n",
    "    print(f'{c} {\"la ky tu alphabet\"}')\n",
    "    \n"
   ]
  },
  {
   "cell_type": "code",
   "execution_count": 27,
   "id": "80d79003-d389-4427-9bbb-b1d1be4a8e85",
   "metadata": {},
   "outputs": [
    {
     "name": "stdin",
     "output_type": "stream",
     "text": [
      " B\n"
     ]
    },
    {
     "name": "stdout",
     "output_type": "stream",
     "text": [
      "a\n"
     ]
    }
   ],
   "source": [
    "#Bai5\n",
    "chu_hoa = input()\n",
    "ma_unicode=ord(chu_hoa)\n",
    "if chu_hoa==\"A\":\n",
    "    print(\"z\")\n",
    "else:\n",
    "    print(chr(ma_unicode+31))"
   ]
  },
  {
   "cell_type": "code",
   "execution_count": 33,
   "id": "442cda10-6c28-4f87-82e3-9bc596f6593c",
   "metadata": {},
   "outputs": [
    {
     "name": "stdin",
     "output_type": "stream",
     "text": [
      " 3\n",
      " 4\n",
      " 5\n"
     ]
    },
    {
     "name": "stdout",
     "output_type": "stream",
     "text": [
      "6.0\n"
     ]
    }
   ],
   "source": [
    "#Bai6\n",
    "a=float(input())\n",
    "b=float(input())\n",
    "c=float(input())\n",
    "p=(a+b+c)/2\n",
    "dien_tich=(p*(p-a)*(p-b)*(p-c))**0.5\n",
    "if a+b>c and a+c>b and b+c>a:\n",
    "    print(dien_tich)\n",
    "else:\n",
    "    print(\"Khong phai la tam giac\")\n"
   ]
  },
  {
   "cell_type": "code",
   "execution_count": 50,
   "id": "74c1957a-4d00-4b56-9685-851b3c85da73",
   "metadata": {},
   "outputs": [
    {
     "name": "stdin",
     "output_type": "stream",
     "text": [
      " wfwbjjibhiwbibibbbuierbhorbiu\n"
     ]
    },
    {
     "name": "stdout",
     "output_type": "stream",
     "text": [
      "ky tu thu 5 la: j\n",
      "ky tu thu 9 la: h\n"
     ]
    }
   ],
   "source": [
    "#Bai7\n",
    "chuoi_ky_tu= input()\n",
    "if len(chuoi_ky_tu)<20:\n",
    "    print(\"so ky tu cua chuoi khong thoa man bai toan\")\n",
    "else:\n",
    "    print(\"ky tu thu 5 la:\", chuoi_ky_tu[4])\n",
    "    print(\"ky tu thu 9 la:\", chuoi_ky_tu[8])"
   ]
  },
  {
   "cell_type": "code",
   "execution_count": 52,
   "id": "ae9a147f-aff1-45dc-b9fa-21d5dfd364b6",
   "metadata": {},
   "outputs": [
    {
     "name": "stdin",
     "output_type": "stream",
     "text": [
      " 2097\n",
      " 2278\n",
      " Dinh Trung Thanh\n"
     ]
    },
    {
     "name": "stdout",
     "output_type": "stream",
     "text": [
      "Ho va ten: Dinh Trung Thanh\n",
      "So tien phai tra la:\n",
      "426.0384 nghin dong\n"
     ]
    }
   ],
   "source": [
    "#Bai8\n",
    "# So dien thang truoc\n",
    "a=int(input())\n",
    "# So dien thang nay\n",
    "b=int(input())\n",
    "so_dien=b-a\n",
    "ten_chu_ho=input()\n",
    "print(f'{\"Ho va ten:\"} {ten_chu_ho}')\n",
    "print(\"So tien phai tra la:\")\n",
    "if so_dien>0 and so_dien<=50:\n",
    "    print(f'{so_dien*1.984} {\"nghin dong\"}')\n",
    "elif so_dien>51 and so_dien<=100:\n",
    "    print(f'{(99.2+(so_dien-50)*2.05)*1.08} {\"nghin dong\"}')\n",
    "elif so_dien>101 and so_dien<=200:\n",
    "    print(f'{(201.7+(so_dien-100)*2.38)*1.08} {\"nghin dong\"}')\n",
    "elif so_dien>201 and so_dien<=300:\n",
    "    print(f'{(439.7+(so_dien-200)*2.998)*1.08} {\"nghin dong\"}')\n",
    "elif so_dien>301 and so_dien<=400:\n",
    "    print(f'{(739.5+(so_dien-300)*3.35)*1.08} {\"nghin dong\"}')\n",
    "else:\n",
    "    print(f'{(1074.5+(so_dien-400)*3.46)*1.08} {\"nghin dong\"}')\n",
    "    \n",
    "\n"
   ]
  },
  {
   "cell_type": "code",
   "execution_count": 54,
   "id": "ff7d7034-c51a-4985-8429-1a55daad66ca",
   "metadata": {},
   "outputs": [
    {
     "name": "stdin",
     "output_type": "stream",
     "text": [
      " 2\n"
     ]
    },
    {
     "name": "stdout",
     "output_type": "stream",
     "text": [
      "2 la so chan\n"
     ]
    }
   ],
   "source": [
    "#Bai 1\n",
    "so=int(input())\n",
    "if so%2==0:\n",
    "    print(f'{so} {\"la so chan\"}')\n",
    "else:\n",
    "    print(f'{so} {\"la so le\"}')"
   ]
  },
  {
   "cell_type": "code",
   "execution_count": 55,
   "id": "34d48636-0b52-43f1-848d-839c8dffcb97",
   "metadata": {},
   "outputs": [
    {
     "name": "stdin",
     "output_type": "stream",
     "text": [
      " 12345\n"
     ]
    },
    {
     "name": "stdout",
     "output_type": "stream",
     "text": [
      "true\n"
     ]
    }
   ],
   "source": [
    "#Bai 2\n",
    "so=int(input())\n",
    "if so%10==5:\n",
    "    print(\"true\")\n",
    "else: \n",
    "    print(\"false\")"
   ]
  },
  {
   "cell_type": "code",
   "execution_count": 56,
   "id": "affb2ecb-7b4c-4477-9190-343cffa3e678",
   "metadata": {},
   "outputs": [
    {
     "name": "stdin",
     "output_type": "stream",
     "text": [
      " 90\n"
     ]
    },
    {
     "name": "stdout",
     "output_type": "stream",
     "text": [
      "true\n"
     ]
    }
   ],
   "source": [
    "#Bai 3\n",
    "so=int(input())\n",
    "if so%15==0:\n",
    "    print(\"true\")\n",
    "else:\n",
    "    print(\"false\")\n",
    "    "
   ]
  },
  {
   "cell_type": "code",
   "execution_count": 58,
   "id": "a4ad07d4-9b3e-4f31-bf72-2741b2d2b893",
   "metadata": {},
   "outputs": [
    {
     "name": "stdin",
     "output_type": "stream",
     "text": [
      " 2007\n"
     ]
    },
    {
     "name": "stdout",
     "output_type": "stream",
     "text": [
      "du tuoi di bau cu\n"
     ]
    }
   ],
   "source": [
    "#Bai 4\n",
    "nam_sinh=int(input())\n",
    "if 2025-nam_sinh>=18:\n",
    "    print(\"du tuoi di bau cu\")\n",
    "else: \n",
    "    print(\"khong du tuoi di bau cu\")"
   ]
  },
  {
   "cell_type": "code",
   "execution_count": 59,
   "id": "f4046c05-e740-4ceb-a1ee-91b1bb455f9d",
   "metadata": {},
   "outputs": [
    {
     "name": "stdin",
     "output_type": "stream",
     "text": [
      " 4\n",
      " 4\n"
     ]
    },
    {
     "name": "stdout",
     "output_type": "stream",
     "text": [
      "hai so bang nhau\n"
     ]
    }
   ],
   "source": [
    "#Bai 5\n",
    "a=int(input())\n",
    "b=int(input())\n",
    "if a>b:\n",
    "    print(a)\n",
    "elif b>a:\n",
    "    print(b)\n",
    "else: \n",
    "    print(\"hai so bang nhau\")"
   ]
  },
  {
   "cell_type": "code",
   "execution_count": 60,
   "id": "d3d72324-9132-485d-81f6-1667a2f3d184",
   "metadata": {},
   "outputs": [
    {
     "name": "stdin",
     "output_type": "stream",
     "text": [
      " 2\n"
     ]
    },
    {
     "name": "stdout",
     "output_type": "stream",
     "text": [
      "la chu so\n"
     ]
    }
   ],
   "source": [
    "#Bai 6\n",
    "x=input()\n",
    "if x.isdigit():\n",
    "    print(\"la chu so\")\n",
    "else: \n",
    "    print(\"la chu cai\")"
   ]
  },
  {
   "cell_type": "code",
   "execution_count": null,
   "id": "0843abb8-e675-473c-9eb7-29a5c4d5c470",
   "metadata": {},
   "outputs": [],
   "source": [
    "#Bai 7\n",
    "x=float(input())\n",
    "if x>=8: \n",
    "    print(\"gioi\")\n",
    "elif x>=6.5 and x<8: \n",
    "    print(\"kha\")\n",
    "elif x>=5 and x<6.5:\n",
    "    print(\"trung binh\")\n",
    "else:\n",
    "    print (\"yeu\")"
   ]
  },
  {
   "cell_type": "code",
   "execution_count": 61,
   "id": "1a1dd382-4432-41e8-a9d7-ab79cc015aba",
   "metadata": {},
   "outputs": [
    {
     "name": "stdin",
     "output_type": "stream",
     "text": [
      " 2020\n"
     ]
    },
    {
     "name": "stdout",
     "output_type": "stream",
     "text": [
      "2020 la nam nhuan\n"
     ]
    }
   ],
   "source": [
    "#Bai 8\n",
    "nam=int(input())\n",
    "if nam%400==0 or nam%4==0 and nam%100!=0:\n",
    "    print(f'{nam} {\"la nam nhuan\"}')\n",
    "else:\n",
    "    print(f'{nam} {\"khong phai la nam nhuan\"}')"
   ]
  },
  {
   "cell_type": "code",
   "execution_count": 62,
   "id": "1e0dcabb-b61e-41bd-8d1d-741886abe519",
   "metadata": {},
   "outputs": [
    {
     "name": "stdin",
     "output_type": "stream",
     "text": [
      " 3\n"
     ]
    },
    {
     "name": "stdout",
     "output_type": "stream",
     "text": [
      "ba\n"
     ]
    }
   ],
   "source": [
    "#Bai 9\n",
    "so=int(input())\n",
    "match so:\n",
    "    case 1:\n",
    "        print(\"mot\")\n",
    "    case 2:\n",
    "        print(\"hai\")\n",
    "    case 3:\n",
    "        print(\"ba\")\n",
    "    case 4:\n",
    "        print(\"bon\")\n",
    "    case 5:\n",
    "        print(\"nam\")\n",
    "    case 6:\n",
    "        print(\"sau\")\n",
    "    case 7:\n",
    "        print(\"bay\")\n",
    "    case 8:\n",
    "        print(\"tam\")\n",
    "    case 9:\n",
    "        print(\"chin\")"
   ]
  },
  {
   "cell_type": "code",
   "execution_count": 63,
   "id": "26654b72-cb76-4896-9502-697e8bb8600a",
   "metadata": {},
   "outputs": [
    {
     "name": "stdin",
     "output_type": "stream",
     "text": [
      " 3.5\n"
     ]
    },
    {
     "name": "stdout",
     "output_type": "stream",
     "text": [
      "hoc lai\n"
     ]
    }
   ],
   "source": [
    "#Bai 10\n",
    "diem=float(input())\n",
    "if diem>=4:\n",
    "    print(\"qua mon\")\n",
    "else:\n",
    "    print(\"hoc lai\")\n",
    "    "
   ]
  },
  {
   "cell_type": "code",
   "execution_count": 64,
   "id": "e0b3ff93-f5d5-443d-8ad0-5e34bd7934f6",
   "metadata": {},
   "outputs": [
    {
     "name": "stdin",
     "output_type": "stream",
     "text": [
      " 2007\n"
     ]
    },
    {
     "name": "stdout",
     "output_type": "stream",
     "text": [
      "du 18 tuoi\n"
     ]
    }
   ],
   "source": [
    "#Bai 11\n",
    "nam_sinh=int(input())\n",
    "if 2025-nam_sinh>=18:\n",
    "    print(\"du 18 tuoi\")\n",
    "else:\n",
    "    print(\"chua du 18 tuoi\")"
   ]
  }
 ],
 "metadata": {
  "kernelspec": {
   "display_name": "Python 3 (ipykernel)",
   "language": "python",
   "name": "python3"
  },
  "language_info": {
   "codemirror_mode": {
    "name": "ipython",
    "version": 3
   },
   "file_extension": ".py",
   "mimetype": "text/x-python",
   "name": "python",
   "nbconvert_exporter": "python",
   "pygments_lexer": "ipython3",
   "version": "3.13.7"
  }
 },
 "nbformat": 4,
 "nbformat_minor": 5
}
